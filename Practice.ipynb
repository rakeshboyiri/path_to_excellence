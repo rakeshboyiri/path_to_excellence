{
 "cells": [
  {
   "cell_type": "code",
   "execution_count": 5,
   "metadata": {},
   "outputs": [
    {
     "name": "stdout",
     "output_type": "stream",
     "text": [
      "abcd^e-fgh*+^*+i-\n"
     ]
    }
   ],
   "source": [
    "def precedence(op):\n",
    "    if op == '^':\n",
    "        return 3\n",
    "    elif op == '*' or op == '/':\n",
    "        return 2\n",
    "    elif op == '+' or op == '-':\n",
    "        return 1\n",
    "    else:\n",
    "        return 0\n",
    "\n",
    "def infix_postfix(exp):\n",
    "    statck = []\n",
    "    ans = \"\"\n",
    "    for ch in exp:\n",
    "        if ch.isalnum():\n",
    "            ans += ch\n",
    "        elif ch == '(':\n",
    "            statck.append(ch)\n",
    "        elif ch == ')':\n",
    "            while statck and statck[-1]!='(':\n",
    "                ans += statck.pop()\n",
    "            statck.pop()\n",
    "        else:\n",
    "            while statck and precedence(statck[-1]) >= precedence(ch):\n",
    "                ans += statck.pop()\n",
    "            statck.append(ch)\n",
    "    while statck:\n",
    "        ans += statck.pop()\n",
    "    return ans\n",
    "print(infix_postfix(\"a+b*(c^d-e)^(f+g*h)-i\"))\n",
    "# abcd^e-fgh*+^*+i-"
   ]
  },
  {
   "cell_type": "code",
   "execution_count": 6,
   "metadata": {},
   "outputs": [
    {
     "name": "stdout",
     "output_type": "stream",
     "text": [
      "Invalid prefix expression\n"
     ]
    }
   ],
   "source": [
    "def prefix_to_infix(exp):\n",
    "    try:\n",
    "        stack = []\n",
    "        for ch in reversed(exp):\n",
    "            if ch.isalnum():\n",
    "                stack.append(ch)\n",
    "            else:\n",
    "                op1 = stack.pop()\n",
    "                op2 = stack.pop()\n",
    "                infix = f\"({op1}{ch}{op2})\"\n",
    "                stack.append(infix)\n",
    "    except IndexError:\n",
    "        return \"Invalid prefix expression\"\n",
    "    return stack.pop()\n",
    "\n",
    "print(prefix_to_infix(\"*+ab-cdef^gh+\"))"
   ]
  },
  {
   "cell_type": "code",
   "execution_count": null,
   "metadata": {},
   "outputs": [
    {
     "name": "stdout",
     "output_type": "stream",
     "text": [
      "AB+CD-*\n"
     ]
    }
   ],
   "source": [
    "def prefix_to_postfix(exp):\n",
    "    try:\n",
    "        stack = []\n",
    "        for ch in reversed(exp):\n",
    "            if ch.isalnum():\n",
    "                stack.append(ch)\n",
    "            else:\n",
    "                op1 = stack.pop()\n",
    "                op2 = stack.pop()\n",
    "                infix = f\"{op1}{op2}{ch}\"\n",
    "                stack.append(infix)\n",
    "    except IndexError:\n",
    "        return \"Invalid prefix expression\"\n",
    "    return stack.pop()\n",
    "\n",
    "print(prefix_to_postfix(\"*+AB-CD\"))\n",
    "#  AB+CD-*"
   ]
  },
  {
   "cell_type": "code",
   "execution_count": 18,
   "metadata": {},
   "outputs": [
    {
     "name": "stdout",
     "output_type": "stream",
     "text": [
      "*+AB-CD\n"
     ]
    }
   ],
   "source": [
    "def postfix_to_prefix(exp):\n",
    "    try:\n",
    "        stack = []\n",
    "        for ch in (exp):\n",
    "            if ch.isalnum():\n",
    "                stack.append(ch)\n",
    "            else:\n",
    "                op2 = stack.pop()\n",
    "                op1 = stack.pop()\n",
    "                infix = f\"{ch}{op1}{op2}\"\n",
    "                stack.append(infix)\n",
    "    except IndexError:\n",
    "        return \"Invalid prefix expression\"\n",
    "    return stack.pop()\n",
    "\n",
    "print(postfix_to_prefix(\"AB+CD-*\"))\n",
    "#  *+AB-CD"
   ]
  },
  {
   "cell_type": "code",
   "execution_count": 17,
   "metadata": {},
   "outputs": [
    {
     "name": "stdout",
     "output_type": "stream",
     "text": [
      "((A+B)*(C-D))\n"
     ]
    }
   ],
   "source": [
    "def postfix_to_infix(exp):\n",
    "    try:\n",
    "        stack = []\n",
    "        for ch in (exp):\n",
    "            if ch.isalnum():\n",
    "                stack.append(ch)\n",
    "            else:\n",
    "                op2 = stack.pop()\n",
    "                op1 = stack.pop()\n",
    "                infix = f\"({op1}{ch}{op2})\"\n",
    "                stack.append(infix)\n",
    "    except IndexError:\n",
    "        return \"Invalid prefix expression\"\n",
    "    return stack.pop()\n",
    "\n",
    "print(postfix_to_infix(\"AB+CD-*\"))\n",
    "#  *+AB-CD"
   ]
  },
  {
   "cell_type": "code",
   "execution_count": 20,
   "metadata": {},
   "outputs": [
    {
     "name": "stdout",
     "output_type": "stream",
     "text": [
      "Infix Expression: (A-B/C)*(A/K-L)\n",
      "Prefix Expression: *-A/BC-/AKL\n"
     ]
    }
   ],
   "source": [
    "def precedence(op):\n",
    "    \"\"\"Return precedence of an operator.\"\"\"\n",
    "    if op in ('+', '-'):\n",
    "        return 1\n",
    "    if op in ('*', '/'):\n",
    "        return 2\n",
    "    if op == '^':  # Exponentiation has the highest precedence\n",
    "        return 3\n",
    "    return 0\n",
    "\n",
    "def infix_to_prefix(expression):\n",
    "    \"\"\"Convert Infix Expression to Prefix.\"\"\"\n",
    "    # Reverse the expression and swap '(' with ')'\n",
    "    expression = expression[::-1]\n",
    "    expression = ''.join('(' if char == ')' else ')' if char == '(' else char for char in expression)\n",
    "    \n",
    "    stack = []  # Stack to hold operators\n",
    "    output = []  # List for output postfix expression\n",
    "\n",
    "    for char in expression:\n",
    "        if char.isalnum():  # If operand, add to output\n",
    "            output.append(char)\n",
    "        elif char == '(':  # If '(', push to stack\n",
    "            stack.append(char)\n",
    "        elif char == ')':  # If ')', pop until '('\n",
    "            while stack and stack[-1] != '(':\n",
    "                output.append(stack.pop())\n",
    "            stack.pop()  # Remove '('\n",
    "        else:  # Operator encountered\n",
    "            while stack and precedence(stack[-1]) > precedence(char):\n",
    "                output.append(stack.pop())\n",
    "            stack.append(char)\n",
    "\n",
    "    while stack:  # Pop remaining operators\n",
    "        output.append(stack.pop())\n",
    "\n",
    "    return \"\".join(output[::-1])  # Reverse postfix to get prefix\n",
    "\n",
    "# Example Usage\n",
    "infix_expr = \"(A-B/C)*(A/K-L)\"\n",
    "prefix_expr = infix_to_prefix(infix_expr)\n",
    "print(\"Infix Expression:\", infix_expr)\n",
    "print(\"Prefix Expression:\", prefix_expr)\n"
   ]
  },
  {
   "cell_type": "code",
   "execution_count": null,
   "metadata": {},
   "outputs": [],
   "source": []
  }
 ],
 "metadata": {
  "kernelspec": {
   "display_name": "Python 3",
   "language": "python",
   "name": "python3"
  },
  "language_info": {
   "codemirror_mode": {
    "name": "ipython",
    "version": 3
   },
   "file_extension": ".py",
   "mimetype": "text/x-python",
   "name": "python",
   "nbconvert_exporter": "python",
   "pygments_lexer": "ipython3",
   "version": "3.11.6"
  }
 },
 "nbformat": 4,
 "nbformat_minor": 2
}
