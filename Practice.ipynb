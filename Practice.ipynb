{
 "cells": [
  {
   "cell_type": "code",
   "execution_count": 2,
   "metadata": {},
   "outputs": [
    {
     "name": "stdout",
     "output_type": "stream",
     "text": [
      "ab+\n"
     ]
    }
   ],
   "source": [
    "def precedence(op):\n",
    "    if op == '^':\n",
    "        return 3\n",
    "    elif op == '*' or op == '/':\n",
    "        return 2\n",
    "    elif op == '+' or op == '-':\n",
    "        return 1\n",
    "    else:\n",
    "        return 0\n",
    "\n",
    "def infix_postfix(exp):\n",
    "    statck = []\n",
    "    ans = \"\"\n",
    "    for ch in exp:\n",
    "        if ch.isalnum():\n",
    "            ans += ch\n",
    "        elif ch == '(':\n",
    "            statck.append(ch)\n",
    "        elif ch == ')':\n",
    "            while statck and statck[-1]!='(':\n",
    "                ans += statck.pop()\n",
    "            statck.pop()\n",
    "        else:\n",
    "            while statck and precedence(statck[-1]) > precedence(ch):\n",
    "                ans += statck.pop()\n",
    "            statck.append(ch)\n",
    "    while statck:\n",
    "        ans += statck.pop()\n",
    "    return ans\n",
    "print(infix_postfix(\"a+b\"))"
   ]
  },
  {
   "cell_type": "code",
   "execution_count": null,
   "metadata": {},
   "outputs": [],
   "source": []
  }
 ],
 "metadata": {
  "kernelspec": {
   "display_name": "Python 3",
   "language": "python",
   "name": "python3"
  },
  "language_info": {
   "codemirror_mode": {
    "name": "ipython",
    "version": 3
   },
   "file_extension": ".py",
   "mimetype": "text/x-python",
   "name": "python",
   "nbconvert_exporter": "python",
   "pygments_lexer": "ipython3",
   "version": "3.12.3"
  }
 },
 "nbformat": 4,
 "nbformat_minor": 2
}
