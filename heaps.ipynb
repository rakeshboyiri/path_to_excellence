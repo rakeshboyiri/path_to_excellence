{
 "cells": [
  {
   "cell_type": "code",
   "execution_count": 1,
   "metadata": {},
   "outputs": [
    {
     "name": "stdout",
     "output_type": "stream",
     "text": [
      "Heap Notes\n"
     ]
    }
   ],
   "source": [
    "print(\"Heap Notes\")"
   ]
  },
  {
   "cell_type": "markdown",
   "metadata": {},
   "source": [
    "Introduction to Heaps\n",
    "\n",
    "-> Heap Types\n",
    "\n",
    "->Tree Concepts\n",
    "\n",
    "->Max/Min Heaps\n"
   ]
  },
  {
   "cell_type": "markdown",
   "metadata": {},
   "source": []
  },
  {
   "cell_type": "markdown",
   "metadata": {},
   "source": [
    "# Heap Data Structure\n",
    "\n",
    " Tree based data   structure\n",
    " \n",
    " Complete tree\n",
    "\n",
    "This data structure follows the heap proprty"
   ]
  },
  {
   "cell_type": "markdown",
   "metadata": {},
   "source": [
    "# Representation of Heap\n",
    "\n",
    "-> How to store a heap\n",
    "\n",
    "-> Tree Concepts \n",
    "\n",
    "-> Heap Implementation\n"
   ]
  },
  {
   "cell_type": "markdown",
   "metadata": {},
   "source": []
  },
  {
   "cell_type": "markdown",
   "metadata": {},
   "source": [
    "A complete binary tree with n nodes has its leaves starting from index ⌊n/2⌋ to n−1 (0-based indexing).\n",
    "\n",
    "The number of leaves is approximately n / 2 in a complete binary tree.\n",
    "\n",
    "\n",
    "For a 0-indexed array representation of a binary tree:\n",
    "\n",
    "The internal (non-leaf) nodes are from index 0 to ⌊n/2⌋ - 1\n",
    "\n",
    "The leaf nodes are from index ⌊n/2⌋ to n - 1\n"
   ]
  },
  {
   "cell_type": "code",
   "execution_count": 7,
   "metadata": {},
   "outputs": [
    {
     "name": "stdout",
     "output_type": "stream",
     "text": [
      "Heap array: [1, 2, 4, 5, 3, 8]\n",
      "Heap array: [0, 2, 1, 5, 3, 8, 4]\n"
     ]
    },
    {
     "data": {
      "text/plain": [
       "0"
      ]
     },
     "execution_count": 7,
     "metadata": {},
     "output_type": "execute_result"
    }
   ],
   "source": [
    "class MinHeap:\n",
    "    def __init__(self):\n",
    "        self.heap = []\n",
    "\n",
    "    def insert(self, value):\n",
    "        self.heap.append(value)\n",
    "        self._heapify_up(len(self.heap) - 1)\n",
    "\n",
    "    def extract_min(self):\n",
    "        if not self.heap:\n",
    "            return None\n",
    "        if len(self.heap) == 1:\n",
    "            return self.heap.pop()\n",
    "\n",
    "        # Swap root with last, remove last, heapify down\n",
    "        root = self.heap[0]\n",
    "        self.heap[0] = self.heap.pop()\n",
    "        self._heapify_down(0)\n",
    "        return root\n",
    "\n",
    "    def _heapify_up(self, index):\n",
    "        parent = (index - 1) // 2\n",
    "        while index > 0 and self.heap[parent] > self.heap[index]:\n",
    "            self.heap[parent], self.heap[index] = self.heap[index], self.heap[parent]\n",
    "            index = parent\n",
    "            parent = (index - 1) // 2\n",
    "\n",
    "    def _heapify_down(self, index):\n",
    "        smallest = index\n",
    "        left = 2 * index + 1\n",
    "        right = 2 * index + 2\n",
    "\n",
    "        if left < len(self.heap) and self.heap[left] < self.heap[smallest]:\n",
    "            smallest = left\n",
    "        if right < len(self.heap) and self.heap[right] < self.heap[smallest]:\n",
    "            smallest = right\n",
    "\n",
    "        if smallest != index:\n",
    "            self.heap[smallest], self.heap[index] = self.heap[index], self.heap[smallest]\n",
    "            self._heapify_down(smallest)\n",
    "\n",
    "    def get_min(self):\n",
    "        return self.heap[0] if self.heap else None\n",
    "\n",
    "    def display(self):\n",
    "        print(\"Heap array:\", self.heap)\n",
    "\n",
    "obj = MinHeap()\n",
    "obj.insert(5)\n",
    "obj.insert(3)\n",
    "obj.insert(8)\n",
    "obj.insert(2)\n",
    "obj.insert(1)\n",
    "obj.insert(4)\n",
    "obj.display()\n",
    "obj.insert(0)\n",
    "obj.display()\n",
    "obj.extract_min()\n"
   ]
  },
  {
   "cell_type": "markdown",
   "metadata": {},
   "source": [
    "# Priorty Queue : Using Min-Heap"
   ]
  },
  {
   "cell_type": "code",
   "execution_count": null,
   "metadata": {},
   "outputs": [],
   "source": [
    "import heapq\n",
    "\n",
    "# Create empty heap\n",
    "min_heap = []\n",
    "\n",
    "# Push elements\n",
    "heapq.heappush(min_heap, 10)\n",
    "heapq.heappush(min_heap, 5)\n",
    "heapq.heappush(min_heap, 20)\n",
    "heapq.heappush(min_heap, 1)\n",
    "\n",
    "print(\"Min element:\", min_heap[0])  # Peek top\n",
    "\n",
    "# Pop elements (ascending order)\n",
    "while min_heap:\n",
    "    print(heapq.heappop(min_heap), end=' ')\n"
   ]
  },
  {
   "cell_type": "markdown",
   "metadata": {},
   "source": [
    "# Min Heap to Max Heap Conversion"
   ]
  },
  {
   "cell_type": "code",
   "execution_count": null,
   "metadata": {},
   "outputs": [],
   "source": [
    "def heapify_max(arr, n, i):\n",
    "    largest = i\n",
    "    left = 2*i + 1\n",
    "    right = 2*i + 2\n",
    "\n",
    "    if left < n and arr[left] > arr[largest]:\n",
    "        largest = left\n",
    "\n",
    "    if right < n and arr[right] > arr[largest]:\n",
    "        largest = right\n",
    "\n",
    "    if largest != i:\n",
    "        arr[i], arr[largest] = arr[largest], arr[i]\n",
    "        heapify_max(arr, n, largest)\n",
    "\n",
    "def convert_min_to_max_heap(arr):\n",
    "    n = len(arr)\n",
    "\n",
    "    # Call heapify from last non-leaf node up to root\n",
    "    for i in range((n - 2) // 2, -1, -1):\n",
    "        heapify_max(arr, n, i)\n",
    "    \n",
    "    return arr\n"
   ]
  }
 ],
 "metadata": {
  "kernelspec": {
   "display_name": "Python 3",
   "language": "python",
   "name": "python3"
  },
  "language_info": {
   "codemirror_mode": {
    "name": "ipython",
    "version": 3
   },
   "file_extension": ".py",
   "mimetype": "text/x-python",
   "name": "python",
   "nbconvert_exporter": "python",
   "pygments_lexer": "ipython3",
   "version": "3.11.6"
  }
 },
 "nbformat": 4,
 "nbformat_minor": 2
}
