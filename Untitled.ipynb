{
 "cells": [
  {
   "cell_type": "code",
   "execution_count": 1,
   "id": "300bb6d1-ab7f-4806-89ef-773dbb58a451",
   "metadata": {},
   "outputs": [
    {
     "name": "stdout",
     "output_type": "stream",
     "text": [
      "Collecting micrograd\n",
      "  Downloading micrograd-0.1.0-py3-none-any.whl.metadata (2.6 kB)\n",
      "Downloading micrograd-0.1.0-py3-none-any.whl (4.9 kB)\n",
      "Installing collected packages: micrograd\n",
      "Successfully installed micrograd-0.1.0\n"
     ]
    }
   ],
   "source": [
    "!pip install micrograd"
   ]
  },
  {
   "cell_type": "code",
   "execution_count": 11,
   "id": "3d10c1d2-ef52-4706-9202-f38901d2f716",
   "metadata": {},
   "outputs": [],
   "source": [
    "from micrograd.engine import Value"
   ]
  },
  {
   "cell_type": "code",
   "execution_count": 29,
   "id": "0031ff19-839b-420c-8085-ba32fbb3d9c1",
   "metadata": {},
   "outputs": [
    {
     "name": "stdout",
     "output_type": "stream",
     "text": [
      "Value(data=3.0, grad=0)\n",
      "Value(data=3.0, grad=1)\n"
     ]
    }
   ],
   "source": [
    "a = Value(10)\n",
    "b = Value(20)\n",
    "c = a+b\n",
    "c = c/10\n",
    "print(c)\n",
    "c.backward()\n",
    "print(c)"
   ]
  },
  {
   "cell_type": "code",
   "execution_count": null,
   "id": "dd69498d-af62-42eb-a0e7-4ce37159924a",
   "metadata": {},
   "outputs": [],
   "source": []
  }
 ],
 "metadata": {
  "kernelspec": {
   "display_name": "Python 3 (ipykernel)",
   "language": "python",
   "name": "python3"
  },
  "language_info": {
   "codemirror_mode": {
    "name": "ipython",
    "version": 3
   },
   "file_extension": ".py",
   "mimetype": "text/x-python",
   "name": "python",
   "nbconvert_exporter": "python",
   "pygments_lexer": "ipython3",
   "version": "3.11.9"
  }
 },
 "nbformat": 4,
 "nbformat_minor": 5
}
